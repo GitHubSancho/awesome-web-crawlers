{
 "cells": [
  {
   "cell_type": "markdown",
   "id": "fd489447-07dc-4d11-b3a3-bb0b08131210",
   "metadata": {},
   "source": [
    "# requests基本使用\n",
    "requests是Python语言的第三方库，方便处理HTTP请求和响应。"
   ]
  },
  {
   "cell_type": "code",
   "execution_count": null,
   "id": "44836eeb-a928-4367-91b2-fa627bb2209e",
   "metadata": {},
   "outputs": [],
   "source": [
    "# 0.安装requests\n",
    "!pip install requests"
   ]
  },
  {
   "cell_type": "code",
   "execution_count": null,
   "id": "5532f9b9-d602-4aef-877a-00e1dc57caa8",
   "metadata": {},
   "outputs": [],
   "source": [
    "# 1.导入模块\n",
    "import requests"
   ]
  },
  {
   "cell_type": "code",
   "execution_count": null,
   "id": "f8255de1-2aca-479d-8e67-201f988df5a0",
   "metadata": {},
   "outputs": [],
   "source": [
    "# 2.发送请求\n",
    "rsp = requests.get('https://www.baidu.com') #返回response对象\n",
    "\n",
    "# 以post类型请求\n",
    "rsp = requests.post('https://www.baidu.com',data={'key':'value'})"
   ]
  },
  {
   "cell_type": "code",
   "execution_count": null,
   "id": "1f597b98-9707-4ed9-bb59-576d440c0062",
   "metadata": {},
   "outputs": [],
   "source": [
    "# 3.传递URL参数\n",
    "# url='https://www.baidu.com?key1=value1&key2=value2'\n",
    "payload = {'key1': 'value1', 'key2': 'value2'}\n",
    "rsp = requests.get('https://www.baidu.com', params=payload)"
   ]
  },
  {
   "cell_type": "code",
   "execution_count": null,
   "id": "2f4ff0ab-0aab-41ee-aab0-e03275ffab37",
   "metadata": {},
   "outputs": [],
   "source": [
    "# 4.响应内容\n",
    "# 查看编码\n",
    "rsp.encoding\n",
    "\n",
    "# 替换编码\n",
    "rsp.encoding = \"utf-8\"\n",
    "\n",
    "# 获取html内容\n",
    "rsp.text\n",
    "\n",
    "# 获取二进制内容\n",
    "rsp.content\n",
    "\n",
    "# 获取json内容\n",
    "rsp.json()\n",
    "\n",
    "# 获取原始响应内容\n",
    "rsp = requests.get('https://www.baidu.com', stream=True)\n",
    "rsp.raw"
   ]
  },
  {
   "cell_type": "code",
   "execution_count": null,
   "id": "78fdfe71-59ec-4c2a-94ed-fac574b87001",
   "metadata": {},
   "outputs": [],
   "source": [
    "# 5.定制请求头\n",
    "url = 'https://www.baidu.com'\n",
    "header = 'user-agent': 'my-app/0.0.1'\n",
    "rsp = requests.get(url, headers=header)"
   ]
  },
  {
   "cell_type": "code",
   "execution_count": null,
   "id": "7d1b369f-06ef-43e9-bdb6-767648ef6eba",
   "metadata": {},
   "outputs": [],
   "source": [
    "# 6.响应状态码\n",
    "rsp.status_code\n",
    "\n",
    "# 抛出异常\n",
    "rsp.raise_for_status()"
   ]
  },
  {
   "cell_type": "code",
   "execution_count": null,
   "id": "e913b59e-27db-4fe8-8960-760103fa0a00",
   "metadata": {},
   "outputs": [],
   "source": [
    "# 7.Cookies\n",
    "rsp.cookies['example_cookie_name']\n",
    "\n",
    "# 发送Cookies\n",
    "cookies = dict(cookies_are='working')\n",
    "rsp = requests.get(url, cookies=cookies)"
   ]
  },
  {
   "cell_type": "code",
   "execution_count": null,
   "id": "b7454b85-1e14-4d71-80b0-c97a2907f9e4",
   "metadata": {},
   "outputs": [],
   "source": [
    "# 8.重定向和请求历史\n",
    "rsp.url # 查看重定向返回的链接\n",
    "rsp.history # 查看请求历史\n",
    "\n",
    "# 禁用重定向\n",
    "rsp = requests.get('https://www.baidu.com', allow_redirects=False)"
   ]
  },
  {
   "cell_type": "code",
   "execution_count": null,
   "id": "bd79514b-faa4-4e0c-b9f1-df61c53d9dd2",
   "metadata": {},
   "outputs": [],
   "source": [
    "# 9.设置超时\n",
    "requests.get('https://www.baidu.com', timeout=3) # 秒"
   ]
  },
  {
   "cell_type": "code",
   "execution_count": null,
   "id": "2c3e69aa-1e19-4934-b143-e48b5c13b3db",
   "metadata": {},
   "outputs": [],
   "source": [
    "# 10.异常\n",
    "# ConnectionError：DNS 查询失败、拒绝连接等\n",
    "# HTTPError：HTTP请求不成功\n",
    "# Timeout：请求超时\n",
    "# TooManyRedirects：超过最大重定向次数\n",
    "# 所有Requests显式抛出的异常都继承自 requests.exceptions.RequestException"
   ]
  },
  {
   "cell_type": "markdown",
   "id": "6a93cf3e-3bfb-4af0-ba13-413fa8914db5",
   "metadata": {},
   "source": [
    "## [查看requests高级用法](https://docs.python-requests.org/zh_CN/latest/user/advanced.html)"
   ]
  }
 ],
 "metadata": {
  "kernelspec": {
   "display_name": "Python 3 (ipykernel)",
   "language": "python",
   "name": "python3"
  },
  "language_info": {
   "codemirror_mode": {
    "name": "ipython",
    "version": 3
   },
   "file_extension": ".py",
   "mimetype": "text/x-python",
   "name": "python",
   "nbconvert_exporter": "python",
   "pygments_lexer": "ipython3",
   "version": "3.9.7"
  }
 },
 "nbformat": 4,
 "nbformat_minor": 5
}
