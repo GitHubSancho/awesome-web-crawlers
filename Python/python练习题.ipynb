{
 "cells": [
  {
   "cell_type": "code",
   "execution_count": 4,
   "metadata": {},
   "outputs": [
    {
     "data": {
      "text/plain": [
       "(2, 1)"
      ]
     },
     "execution_count": 4,
     "metadata": {},
     "output_type": "execute_result"
    }
   ],
   "source": [
    "# 1.交换赋值（不使用中间变量）\n",
    "\"\"\"\n",
    "a = 1\n",
    "b = 2\n",
    "\"\"\"\n",
    "a = 1\n",
    "b = 2\n",
    "\n",
    "a,b = b,a\n",
    "a,b # (2, 1)"
   ]
  },
  {
   "cell_type": "code",
   "execution_count": 5,
   "metadata": {},
   "outputs": [
    {
     "name": "stdout",
     "output_type": "stream",
     "text": [
      "[{'num': 2}, {'num': 2}, {'num': 2}]\n"
     ]
    }
   ],
   "source": [
    "# 2.可变类型赋值：思考下列代码的输出\n",
    "\"\"\"\n",
    "#1\n",
    "l1 = []\n",
    "for i in range(3):\n",
    "    l1.append({'num':i})\n",
    "print(l1)\n",
    "\n",
    "#2\n",
    "l2 = []\n",
    "a = {'num':0}\n",
    "for i in range(3):\n",
    "    a['num'] = i\n",
    "    l2.append(a)\n",
    "print(l2)\n",
    "\"\"\"\n",
    "l2 = []\n",
    "a = {'num':0}\n",
    "for i in range(3):\n",
    "    a['num'] = i\n",
    "    l2.append(a) # 字典是可变类型\n",
    "print(l2) # [{'num': 2}, {'num': 2}, {'num': 2}]"
   ]
  },
  {
   "cell_type": "code",
   "execution_count": 11,
   "metadata": {},
   "outputs": [
    {
     "name": "stdout",
     "output_type": "stream",
     "text": [
      "set1 ∩ set2：{1, 2.2, (4+3j)}\n",
      "set2 ∩ set1：{True, 2.2, (4+3j)}\n",
      "set1 ∪ set2：{False, True, 2, 2.2, (4+3j)}\n",
      "set2 ∪ set1：{False, 1, 2.2, 2, (4+3j)}\n",
      "set1 - set2：{2}\n",
      "set2 - set1：{False}\n"
     ]
    }
   ],
   "source": [
    "# 3.求两个集合的交集、并集和差集\n",
    "\"\"\"\n",
    "set1 = {2,2.2,True,4+3j}\n",
    "set2 = {1,2.2,False,4+3j}\n",
    "\"\"\"\n",
    "set1 = {2,2.2,True,4+3j}\n",
    "set2 = {1,2.2,False,4+3j}\n",
    "\n",
    "print(f\"set1 ∩ set2：{set1 & set2}\") \n",
    "print(f\"set2 ∩ set1：{set2 & set1}\") # 求交集时依赖后一个集合寻找相同元素\n",
    "# set1 ∩ set2：{1, 2.2, (4+3j)}\n",
    "# set2 ∩ set1：{True, 2.2, (4+3j)}\n",
    "\n",
    "print(f\"set1 ∪ set2：{set1 | set2}\") # 以第一个操作数为优先级\n",
    "print(f\"set2 ∪ set1：{set2 | set1}\")\n",
    "# set1 ∪ set2：{False, True, 2, 2.2, (4+3j)}\n",
    "# set2 ∪ set1：{False, 1, 2.2, 2, (4+3j)}\n",
    "\n",
    "print(f\"set1 - set2：{set1 - set2}\") # 第一个操作数减去交集\n",
    "print(f\"set2 - set1：{set2 - set1}\")\n",
    "# set1 - set2：{2}\n",
    "# set2 - set1：{False}"
   ]
  },
  {
   "cell_type": "code",
   "execution_count": null,
   "metadata": {},
   "outputs": [],
   "source": []
  }
 ],
 "metadata": {
  "kernelspec": {
   "display_name": "Python 3.8.13 ('base')",
   "language": "python",
   "name": "python3"
  },
  "language_info": {
   "codemirror_mode": {
    "name": "ipython",
    "version": 3
   },
   "file_extension": ".py",
   "mimetype": "text/x-python",
   "name": "python",
   "nbconvert_exporter": "python",
   "pygments_lexer": "ipython3",
   "version": "3.9.12"
  },
  "orig_nbformat": 4,
  "vscode": {
   "interpreter": {
    "hash": "799163b385c9181b01ce43145522fe9684a552fc959640cb067a9bcc1f7c0c1f"
   }
  }
 },
 "nbformat": 4,
 "nbformat_minor": 2
}
