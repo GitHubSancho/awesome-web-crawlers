{
 "cells": [
  {
   "cell_type": "markdown",
   "metadata": {},
   "source": [
    "## Pythonic数据结构\n",
    "### 列表和数组优化\n",
    "- 列表的特性\n",
    "  - 列表像数组一样具有可变数据结构\n",
    "  - Python中的列表排序时具有确定的权重\n",
    "  - 列表和数组一样是从`0` 开始索引，并可以容纳重复元素\n",
    "  - 列表可以有效保留数据序列以供将来迭代\n",
    "  - 优化特性：Python的列表会在头尾部保留指针，这使得任何列表可以随意拼接，且追加或插入的复杂度为`O(1)`\n",
    "- 列表推导式\n",
    "  - 当迭代操作基于现有数据时，列表推导式比循环更清晰简洁\n",
    "  - Cpython对列表推导式有额外优化，基础操作可能更快(会先扩展列表，再添加数据，而不是循环扩展)\n",
    "  - 不是多重嵌套的情况，列表推导式的可读性更高\n",
    "- 列表推导式、`map()`，`filter()`\n",
    "  - 列表推导式比`map()`和`filter`更简洁可读性更好\n",
    "- 反向访问\n",
    "  - 列表可通过负数进行反向索引，比常规方法更简洁可读性更好\n",
    "- `all()`和`any()`\n",
    "  - `all()`元素全部为真，或可迭代对象为空，则返回`True`（类似对所有对象使用`and`），特性：一旦知道结果便'短路'\n",
    "  - `any()`元素全部为假，则返回`Flase`，任一为真，则返回`True`\n",
    "- 剩余序列\n",
    "  - `*`可获取未知个数个元素，可读性更高更简洁\n",
    "- `array`类型获取基本类型数组\n",
    "  - 数组仅支持单一数据类型\n",
    "  - 数组元素是可变对象\n",
    "  - 数组元素占用固定大小内存，比列表或元组更节省空间\n",
    "  - 数组和列表的API一致，数组可转换为列表\n",
    "- `str`类型\n",
    "  - `str`类型是不可变对象\n",
    "  - `str`类型中每个字符都是单位长度的`str`对象\n",
    "  - 改变序列必须创建副本\n",
    "- `bytearray`类型\n",
    "  - `bytearray`是单字节可变类型（`bytes`类型是不可变类型）\n",
    "  - 简单的`bytearray`和`bytes`的数据类型可以相互转换，但繁杂的数据转换时需注意转换时创建的副本和复杂性\n",
    "- `bytes`类型\n",
    "  - `bytes`类型与`str`类型同样是不可变类型，不同在于字节必须是0~255范围之间的单字节，所以更节省空间\n",
    "  - 在程序中值需要多次引用，但值又保持相对不变的情况（类似布尔映射或单字符存储），可以考虑使用`bytes`类型，以此减少使用空间和优化读取效率\n"
   ]
  },
  {
   "cell_type": "code",
   "execution_count": 19,
   "metadata": {},
   "outputs": [
    {
     "name": "stdout",
     "output_type": "stream",
     "text": [
      "706 ms ± 8.46 ms per loop (mean ± std. dev. of 7 runs, 1 loop each)\n"
     ]
    }
   ],
   "source": [
    "%%timeit data = range(10000000)\n",
    "# 测试：for和列表推导式的append操作效率比较\n",
    "some_list = list()\n",
    "for element in data:\n",
    "    some_list.append(element)"
   ]
  },
  {
   "cell_type": "code",
   "execution_count": 20,
   "metadata": {},
   "outputs": [
    {
     "name": "stdout",
     "output_type": "stream",
     "text": [
      "471 ms ± 18.9 ms per loop (mean ± std. dev. of 7 runs, 1 loop each)\n"
     ]
    }
   ],
   "source": [
    "%%timeit data = range(10000000)\n",
    "# 测试：for和列表推导式的append操作效率比较\n",
    "some_list = [ele for ele in data]"
   ]
  },
  {
   "cell_type": "code",
   "execution_count": 22,
   "metadata": {},
   "outputs": [
    {
     "name": "stdout",
     "output_type": "stream",
     "text": [
      "<filter object at 0x0000023D8C296D30>\n",
      "[2, 6, 10, 14, 18]\n",
      "[2, 6, 10, 14, 18]\n"
     ]
    }
   ],
   "source": [
    "# 示例：filter,map,列表推导式可读性比较，找出奇数数字\n",
    "nums = [1,2,3,4,5,6,7,8,9]\n",
    "\n",
    "# filter\n",
    "def is_odd_number(number: int):\n",
    "    return number % 2 == 1\n",
    "\n",
    "odd_numbers = filter(is_odd_number,nums)\n",
    "print(odd_numbers)\n",
    "\n",
    "# map\n",
    "odd_numbers_doubled = list(map(lambda x: x * 2, odd_numbers))\n",
    "print(odd_numbers_doubled)\n",
    "\n",
    "# 列表推导式\n",
    "odd_numbers_doubled_ = [n * 2 for n in nums if n % 2 == 1]\n",
    "print(odd_numbers_doubled_)"
   ]
  },
  {
   "cell_type": "code",
   "execution_count": 28,
   "metadata": {},
   "outputs": [
    {
     "name": "stdout",
     "output_type": "stream",
     "text": [
      "['c', 'd', 'e']\n",
      "['b', 'c', 'd']\n",
      "['a', 'b', 'c']\n"
     ]
    }
   ],
   "source": [
    "# 示例：取剩余序列\n",
    "my_list = ['a','b','c','d','e']\n",
    "\n",
    "(el1, el2, *remaining) = my_list\n",
    "print(remaining)\n",
    "\n",
    "(el1, *middle, eln) = my_list\n",
    "print(middle)\n",
    "\n",
    "(*el1, elminus1, eln) = my_list\n",
    "print(el1)"
   ]
  },
  {
   "cell_type": "code",
   "execution_count": 32,
   "metadata": {},
   "outputs": [
    {
     "name": "stdout",
     "output_type": "stream",
     "text": [
      "array('f', [12.0, 1.25, 21.0, 12.5])\n",
      "array('f', [12.0, 2.3299999237060547, 21.0, 12.5])\n"
     ]
    }
   ],
   "source": [
    "# 示例：array对象\n",
    "import array\n",
    "\n",
    "my_arr = array.array('f',(12.0, 1.25, 21.0, 12.5))\n",
    "print(my_arr)\n",
    "my_arr[1] = 2.33\n",
    "print(my_arr)"
   ]
  },
  {
   "cell_type": "markdown",
   "metadata": {},
   "source": [
    "### 高效的字典\n",
    "- 检测值和提供默认参数\n",
    "  - `Dict`类型中有`.get()`方法，可提供检测值的功能，并可以提供默认返回值，使代码更简洁和健壮\n",
    "- 缺失键的默认值\n",
    "  - `defaultdict`类型是`dict`的子类，重载了一个方法并添加了一个可写的实例变量\n",
    "  - `defaultdict`类型包含一个`default_factory`属性，构造时，第一个参数用于该属性提供初始值，默认为`None`。所有其它参数（包括关键字参数）相当于传递给`dict`的构造参数\n",
    "  - `defaultdict`类型如果属性`default_factory`为`None`则调用`__missing__(key)`抛出`KeyError`异常，附带参数`key`；如果不为`None`，则它会被（不带参数地）调用来为`key`提供一个默认值，这个值和`key`作为一对键值对插入到字典中，并作为`__missing__()`的返回值返回\n",
    "  - `defaultdict`类型更加灵活\n",
    "- 模拟switch-case\n",
    "  - 虽然Python可以使用if-elif实现多路复用，但是当条件增加时需要频繁修改条件表达式，这是对设计使用了封闭办法不利于后期拓展，违背了面向对象的开发原则\n",
    "  - 另一种解决办法是利用`dict`的`key`作为switch的条件，`value`作为对case的操作\n",
    "  - 如果涉及设计模式可以采用工厂模式，对传入参数的参数分别返回需要的类型\n",
    "  - `Pyton v3.10+`中提供match-case可以实现switch-case的功能\n",
    "- 字典推导式\n",
    "  - Python也会对字典推导式算法优化（优化的效率比列表推导的效率更低）\n",
    "  - 简洁的字典推导式也会增加可读性\n",
    "- `OrderedDict`类型\n",
    "  - Python3中的字典默认按插入的顺序排序，python2中的字典是乱序（hash值）\n",
    "  - Python2中可以使用`OrderedDict`类型默认按插入的顺序排序\n",
    "- `ChainMap`类型（python3）\n",
    "  - 链接多个映射（字典）成一个单元，可对这个单元进行操作，通常比创建新字典和运行多个`update`方法要快\n",
    "  - 搜索时依次搜索映射，增加/修改/删除字典时会原地操作（第一个字典）,删除时未找到`key`会报错\n",
    "  - 若有`x`个字典和`y`个`key`，`ChainMap`类型的创建/搜索的复杂度为`O(x)`；如果使用`Dict.update()`方法时间复杂度为`O(x*y)`，搜索复杂度为`O(n)`；所以`ChainMap`类型对写操作效率更高，但读操作效率更低\n",
    "- `MappingProxyType`类型（python3）\n",
    "  - `MappingProxyType`本质上是`Dict`的包装器，一旦创建便把字典设为只读代理\n",
    "  - 若原字典发生修改，`MappingProxyType`类型会同步修改；若原字典发生删除，`MappingProxyType`类型不会删除（备份）\n",
    "  - 举例应用场景：在并发中，一般采用锁机制解决冲突，但只读状态不会影响并发，若想修改值可以通过队列通知只读队列做变更\n",
    "- 字典自定义排序\n",
    "  - `sorted()`函数可以实现排序，默认按字典的`key`值进行排序，可以指定`key`参数自定义排序规则，`reverse`参数为真时实现倒序排列\n",
    "  - `operator.itemgetter()`方法可以实现类似操作\n",
    "- 合并字典\n",
    "  - 合并字典时可能出错的是有共同的`key`值，因为`hash`值必须是唯一的，所以这会使合并字典产生冲突\n",
    "  - 合并字典最简单的是`.update()`方法，但会覆盖之前同名的值\n",
    "  - 另一种办法是使用`Dict(dcit1, **dict2)`进行合并，但也会覆盖之前同名的值\n",
    "  - Python3.5+支持`{**dict1, **dict2, ...}`的方式合并更多字典，但也会覆盖之前同名的值；这种操作被解释器优化，在大型字典的操作中更快\n",
    "- 漂亮打印字典\n",
    "  - 默认会打印一行，且没有缩进，可读性差\n",
    "  - 可使用`pprint`模块来优化输出，缺点是不能更好展示嵌套关系\n",
    "  - 通过`print`函数输出`json`格式的文本信息，可以优化输出层级关系，缺点是可能无法序列化某些数据结构或关键字、内建函数等\n",
    "  - 通过`print`函数输出`yaml`格式的文本信息(需安装第三方库`pip install pyyaml`)\n",
    "- 奇怪的表达式\n",
    "  -  布尔值可以是字典的`key`，当`key`里存在多个布尔值，相等的布尔值会替代之前字典里的`value`值"
   ]
  },
  {
   "cell_type": "code",
   "execution_count": 4,
   "metadata": {},
   "outputs": [
    {
     "name": "stdout",
     "output_type": "stream",
     "text": [
      "defaultdict(<class 'list'>, {'missing': ['apple', 'banana', '123']})\n",
      "defaultdict(<class 'int'>, {'t': 2, 'h': 1, 'i': 2, 's': 3, 'p': 1, 'a': 2, 'r': 1})\n"
     ]
    }
   ],
   "source": [
    "# 示例：defaultdict类型的使用\n",
    "from collections import defaultdict\n",
    "\n",
    "my_dict = defaultdict(list)  # 如果`key`不存在则会使用参数`list`实例化对象\n",
    "my_dict['missing'].append('apple')\n",
    "my_dict['missing'].append('banana')\n",
    "my_dict['missing'].append('123')\n",
    "print(my_dict)"
   ]
  },
  {
   "cell_type": "code",
   "execution_count": 15,
   "metadata": {},
   "outputs": [
    {
     "name": "stdout",
     "output_type": "stream",
     "text": [
      "9.97 ms ± 123 µs per loop (mean ± std. dev. of 7 runs, 100 loops each)\n"
     ]
    }
   ],
   "source": [
    "%%timeit str_ = \"thisissparta\" * 10000\n",
    "# 示例：defaultdict类型的效率对比，统计字符出现次数\n",
    "dd = defaultdict(int)\n",
    "for key in str_:\n",
    "    dd[key] += 1\n",
    "dd"
   ]
  },
  {
   "cell_type": "code",
   "execution_count": 16,
   "metadata": {},
   "outputs": [
    {
     "name": "stdout",
     "output_type": "stream",
     "text": [
      "16.5 ms ± 151 µs per loop (mean ± std. dev. of 7 runs, 100 loops each)\n"
     ]
    }
   ],
   "source": [
    "%%timeit str_ = \"thisissparta\" * 10000\n",
    "# 示例：传统方法的效率对比，统计字符出现次数\n",
    "dd = {}\n",
    "for key in str_:\n",
    "    dd.setdefault(key,0)\n",
    "    dd[key] += 1\n",
    "dd"
   ]
  },
  {
   "cell_type": "code",
   "execution_count": 17,
   "metadata": {},
   "outputs": [
    {
     "data": {
      "text/plain": [
       "'Sancho ran to <missing>'"
      ]
     },
     "execution_count": 17,
     "metadata": {},
     "output_type": "execute_result"
    }
   ],
   "source": [
    "# 示例：灵活的defaultdict\n",
    "from collections import defaultdict\n",
    "\n",
    "def constant_factory(value):\n",
    "    return lambda: value\n",
    "dd = defaultdict(constant_factory('<missing>'))\n",
    "dd.update(name='Sancho', action='ran')\n",
    "\"%(name)s %(action)s to %(unknown)s\" % dd"
   ]
  },
  {
   "cell_type": "code",
   "execution_count": 18,
   "metadata": {},
   "outputs": [
    {
     "data": {
      "text/plain": [
       "200"
      ]
     },
     "execution_count": 18,
     "metadata": {},
     "output_type": "execute_result"
    }
   ],
   "source": [
    "# 示例：模拟switch-case\n",
    "import operator as op\n",
    "\n",
    "def calculate(var1, var2, operator):\n",
    "    operator_dict = {\n",
    "        '+': op.add,\n",
    "        '-': op.sub,\n",
    "        '*': op.mul,\n",
    "        '/': op.truediv\n",
    "    }\n",
    "    return operator_dict[operator](var1,var2)\n",
    "\n",
    "calculate(10, 20, '*')"
   ]
  },
  {
   "cell_type": "code",
   "execution_count": 26,
   "metadata": {},
   "outputs": [
    {
     "data": {
      "text/plain": [
       "100"
      ]
     },
     "execution_count": 26,
     "metadata": {},
     "output_type": "execute_result"
    }
   ],
   "source": [
    "# 示例：ChainMap类型的使用\n",
    "from collections import ChainMap\n",
    "\n",
    "m1 = {'soccer': 100, 'basetball': 200, 'vollyball': 300, }\n",
    "m2 = {'tennis': 400, 'golf': 500, 'soccer': 600, }\n",
    "cmap = ChainMap(m1,m2)\n",
    "cmap['soccer']"
   ]
  },
  {
   "cell_type": "code",
   "execution_count": 28,
   "metadata": {},
   "outputs": [
    {
     "name": "stdout",
     "output_type": "stream",
     "text": [
      "{'benz': 1010, 'ferrari': 2000}\n"
     ]
    },
    {
     "ename": "TypeError",
     "evalue": "'mappingproxy' object does not support item assignment",
     "output_type": "error",
     "traceback": [
      "\u001b[1;31m---------------------------------------------------------------------------\u001b[0m",
      "\u001b[1;31mTypeError\u001b[0m                                 Traceback (most recent call last)",
      "Cell \u001b[1;32mIn [28], line 8\u001b[0m\n\u001b[0;32m      5\u001b[0m read_only_dict \u001b[38;5;241m=\u001b[39m MappingProxyType(read_write_dict)\n\u001b[0;32m      6\u001b[0m \u001b[38;5;28mprint\u001b[39m(read_only_dict)\n\u001b[1;32m----> 8\u001b[0m \u001b[43mread_only_dict\u001b[49m\u001b[43m[\u001b[49m\u001b[38;5;124;43m'\u001b[39;49m\u001b[38;5;124;43mbenz\u001b[39;49m\u001b[38;5;124;43m'\u001b[39;49m\u001b[43m]\u001b[49m \u001b[38;5;241m=\u001b[39m \u001b[38;5;241m2077\u001b[39m\n",
      "\u001b[1;31mTypeError\u001b[0m: 'mappingproxy' object does not support item assignment"
     ]
    }
   ],
   "source": [
    "# 示例：MappingProxyType类型的使用\n",
    "from types import MappingProxyType\n",
    "\n",
    "read_write_dict = {'benz': 1010, 'ferrari': 2000}\n",
    "read_only_dict = MappingProxyType(read_write_dict)\n",
    "print(read_only_dict)\n",
    "\n",
    "read_only_dict['benz'] = 2077"
   ]
  },
  {
   "cell_type": "code",
   "execution_count": 29,
   "metadata": {},
   "outputs": [
    {
     "data": {
      "text/plain": [
       "[('d', 100), ('c', 200), ('b', 300), ('a', 400)]"
      ]
     },
     "execution_count": 29,
     "metadata": {},
     "output_type": "execute_result"
    }
   ],
   "source": [
    "# 示例：字典自定义排序，sorted按值排序\n",
    "d = {'a':400, 'c':200, 'b':300, 'd':100}\n",
    "sorted(d.items(), key=lambda x: x[1])"
   ]
  },
  {
   "cell_type": "code",
   "execution_count": 30,
   "metadata": {},
   "outputs": [
    {
     "data": {
      "text/plain": [
       "[('d', 100), ('c', 200), ('b', 300), ('a', 400)]"
      ]
     },
     "execution_count": 30,
     "metadata": {},
     "output_type": "execute_result"
    }
   ],
   "source": [
    "# 示例：字典自定义排序，operator.itemgetter()方法实现按值排序\n",
    "from operator import itemgetter\n",
    "sorted(d.items(), key=itemgetter(1))"
   ]
  },
  {
   "cell_type": "code",
   "execution_count": 40,
   "metadata": {},
   "outputs": [
    {
     "name": "stdout",
     "output_type": "stream",
     "text": [
      "{   'name': 'Sancho',\n",
      "    'job': 'coder',\n",
      "    'hobby': {'music': 'ROCK', 'computer game': 'SLG', 'cola': 'Pepsi'}}\n"
     ]
    }
   ],
   "source": [
    "# 示例：使用pprint模块，更好的打印字典\n",
    "from pprint import pprint\n",
    "\n",
    "my_map = {'name': 'Sancho', 'job': 'coder', 'hobby': {'music':'ROCK', 'computer game': 'SLG', 'cola': 'Pepsi'}}\n",
    "pprint(my_map, indent=4, sort_dicts=False)   # `indent`:缩进层级，`sort_dicts`:是否排序"
   ]
  },
  {
   "cell_type": "code",
   "execution_count": 41,
   "metadata": {},
   "outputs": [
    {
     "name": "stdout",
     "output_type": "stream",
     "text": [
      "{\n",
      "    \"name\": \"Sancho\",\n",
      "    \"job\": \"coder\",\n",
      "    \"hobby\": {\n",
      "        \"music\": \"ROCK\",\n",
      "        \"computer game\": \"SLG\",\n",
      "        \"cola\": \"Pepsi\"\n",
      "    }\n",
      "}\n"
     ]
    }
   ],
   "source": [
    "# 示例：使用json模块，更好的打印字典\n",
    "from json import dumps\n",
    "\n",
    "print(dumps(my_map, indent=4, sort_keys=False))"
   ]
  },
  {
   "cell_type": "code",
   "execution_count": 42,
   "metadata": {},
   "outputs": [
    {
     "data": {
      "text/plain": [
       "{True: 'banana'}"
      ]
     },
     "execution_count": 42,
     "metadata": {},
     "output_type": "execute_result"
    }
   ],
   "source": [
    "# 示例：奇怪的表达式\n",
    "{True: 'apple', 1: 'orange', 1.0: 'banana'}"
   ]
  },
  {
   "cell_type": "markdown",
   "metadata": {},
   "source": [
    "## 更多内容：\n",
    "<!-- \n",
    "## class与OPP约定\n",
    "## Python模块与元编程\n",
    "## Decorator与Context管理\n",
    "## 正确的数据处理过程\n",
    "## Iterators,Generators,Coroutines\n",
    "## Pythonic的设计与架构\n",
    "## Python的Descriptors\n",
    "## 有效的测试Python代码\n",
    "## 生产环境的代码管理 \n",
    "-->\n"
   ]
  }
 ],
 "metadata": {
  "kernelspec": {
   "display_name": "Python 3.9.12 ('base')",
   "language": "python",
   "name": "python3"
  },
  "language_info": {
   "codemirror_mode": {
    "name": "ipython",
    "version": 3
   },
   "file_extension": ".py",
   "mimetype": "text/x-python",
   "name": "python",
   "nbconvert_exporter": "python",
   "pygments_lexer": "ipython3",
   "version": "3.9.12"
  },
  "orig_nbformat": 4,
  "vscode": {
   "interpreter": {
    "hash": "799163b385c9181b01ce43145522fe9684a552fc959640cb067a9bcc1f7c0c1f"
   }
  }
 },
 "nbformat": 4,
 "nbformat_minor": 2
}
