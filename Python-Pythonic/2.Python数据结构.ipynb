{
 "cells": [
  {
   "cell_type": "markdown",
   "metadata": {},
   "source": [
    "## Pythonic数据结构\n",
    "### 列表和数组优化\n",
    "- 列表的特性\n",
    "  - 列表像数组一样具有可变数据结构\n",
    "  - Python中的列表排序时具有确定的权重\n",
    "  - 列表和数组一样是从`0` 开始索引，并可以容纳重复元素\n",
    "  - 列表可以有效保留数据序列以供将来迭代\n",
    "  - 优化特性：Python的列表会在头尾部保留指针，这使得任何列表可以随意拼接，且追加或插入的复杂度为`O(1)`\n",
    "- 列表推导式\n",
    "  - 当迭代操作基于现有数据时，列表推导式比循环更清晰简洁\n",
    "  - Cpython对列表推导式有额外优化，基础操作可能更快(会先扩展列表，再添加数据，而不是循环扩展)\n",
    "  - 不是多重嵌套的情况，列表推导式的可读性更高\n",
    "- 列表推导式、`map()`，`filter()`\n",
    "  - 列表推导式比`map()`和`filter`更简洁可读性更好\n",
    "- 反向访问\n",
    "  - 列表可通过负数进行反向索引，比常规方法更简洁可读性更好\n",
    "- `all()`和`any()`\n",
    "  - `all()`元素全部为真，或可迭代对象为空，则返回`True`（类似对所有对象使用`and`），特性：一旦知道结果便'短路'\n",
    "  - `any()`元素全部为假，则返回`Flase`，任一为真，则返回`True`\n",
    "- 剩余序列\n",
    "  - `*`可获取未知个数个元素，可读性更高更简洁\n",
    "- `array`类型获取基本类型数组\n",
    "  - 数组仅支持单一数据类型\n",
    "  - 数组元素是可变对象\n",
    "  - 数组元素占用固定大小内存，比列表或元组更节省空间\n",
    "  - 数组和列表的API一致，数组可转换为列表\n",
    "- `str`类型\n",
    "  - `str`类型是不可变对象\n",
    "  - `str`类型中每个字符都是单位长度的`str`对象\n",
    "  - 改变序列必须创建副本\n",
    "- `bytearray`类型\n",
    "  - `bytearray`是单字节可变类型（`bytes`类型是不可变类型）\n",
    "  - 简单的`bytearray`和`bytes`的数据类型可以相互转换，但繁杂的数据转换时需注意转换时创建的副本和复杂性\n",
    "- `bytes`类型\n",
    "  - `bytes`类型与`str`类型同样是不可变类型，不同在于字节必须是0~255范围之间的单字节，所以更节省空间\n",
    "  - 在程序中值需要多次引用，但值又保持相对不变的情况（类似布尔映射或单字符存储），可以考虑使用`bytes`类型，以此减少使用空间和优化读取效率\n"
   ]
  },
  {
   "cell_type": "code",
   "execution_count": 19,
   "metadata": {},
   "outputs": [
    {
     "name": "stdout",
     "output_type": "stream",
     "text": [
      "706 ms ± 8.46 ms per loop (mean ± std. dev. of 7 runs, 1 loop each)\n"
     ]
    }
   ],
   "source": [
    "%%timeit data = range(10000000)\n",
    "# 测试：for和列表推导式的append操作效率比较\n",
    "some_list = list()\n",
    "for element in data:\n",
    "    some_list.append(element)"
   ]
  },
  {
   "cell_type": "code",
   "execution_count": 20,
   "metadata": {},
   "outputs": [
    {
     "name": "stdout",
     "output_type": "stream",
     "text": [
      "471 ms ± 18.9 ms per loop (mean ± std. dev. of 7 runs, 1 loop each)\n"
     ]
    }
   ],
   "source": [
    "%%timeit data = range(10000000)\n",
    "# 测试：for和列表推导式的append操作效率比较\n",
    "some_list = [ele for ele in data]"
   ]
  },
  {
   "cell_type": "code",
   "execution_count": 22,
   "metadata": {},
   "outputs": [
    {
     "name": "stdout",
     "output_type": "stream",
     "text": [
      "<filter object at 0x0000023D8C296D30>\n",
      "[2, 6, 10, 14, 18]\n",
      "[2, 6, 10, 14, 18]\n"
     ]
    }
   ],
   "source": [
    "# 示例：filter,map,列表推导式可读性比较，找出奇数数字\n",
    "nums = [1,2,3,4,5,6,7,8,9]\n",
    "\n",
    "# filter\n",
    "def is_odd_number(number: int):\n",
    "    return number % 2 == 1\n",
    "\n",
    "odd_numbers = filter(is_odd_number,nums)\n",
    "print(odd_numbers)\n",
    "\n",
    "# map\n",
    "odd_numbers_doubled = list(map(lambda x: x * 2, odd_numbers))\n",
    "print(odd_numbers_doubled)\n",
    "\n",
    "# 列表推导式\n",
    "odd_numbers_doubled_ = [n * 2 for n in nums if n % 2 == 1]\n",
    "print(odd_numbers_doubled_)"
   ]
  },
  {
   "cell_type": "code",
   "execution_count": 28,
   "metadata": {},
   "outputs": [
    {
     "name": "stdout",
     "output_type": "stream",
     "text": [
      "['c', 'd', 'e']\n",
      "['b', 'c', 'd']\n",
      "['a', 'b', 'c']\n"
     ]
    }
   ],
   "source": [
    "# 示例：取剩余序列\n",
    "my_list = ['a','b','c','d','e']\n",
    "\n",
    "(el1, el2, *remaining) = my_list\n",
    "print(remaining)\n",
    "\n",
    "(el1, *middle, eln) = my_list\n",
    "print(middle)\n",
    "\n",
    "(*el1, elminus1, eln) = my_list\n",
    "print(el1)"
   ]
  },
  {
   "cell_type": "code",
   "execution_count": 32,
   "metadata": {},
   "outputs": [
    {
     "name": "stdout",
     "output_type": "stream",
     "text": [
      "array('f', [12.0, 1.25, 21.0, 12.5])\n",
      "array('f', [12.0, 2.3299999237060547, 21.0, 12.5])\n"
     ]
    }
   ],
   "source": [
    "# 示例：array对象\n",
    "import array\n",
    "\n",
    "my_arr = array.array('f',(12.0, 1.25, 21.0, 12.5))\n",
    "print(my_arr)\n",
    "my_arr[1] = 2.33\n",
    "print(my_arr)"
   ]
  },
  {
   "cell_type": "markdown",
   "metadata": {},
   "source": [
    "## 更多内容：\n",
    "<!-- \n",
    "## class与OPP约定\n",
    "## Python模块与元编程\n",
    "## Decorator与Context管理\n",
    "## 正确的数据处理过程\n",
    "## Iterators,Generators,Coroutines\n",
    "## Pythonic的设计与架构\n",
    "## Python的Descriptors\n",
    "## 有效的测试Python代码\n",
    "## 生产环境的代码管理 \n",
    "-->\n"
   ]
  }
 ],
 "metadata": {
  "kernelspec": {
   "display_name": "Python 3.9.12 ('base')",
   "language": "python",
   "name": "python3"
  },
  "language_info": {
   "codemirror_mode": {
    "name": "ipython",
    "version": 3
   },
   "file_extension": ".py",
   "mimetype": "text/x-python",
   "name": "python",
   "nbconvert_exporter": "python",
   "pygments_lexer": "ipython3",
   "version": "3.9.12"
  },
  "orig_nbformat": 4,
  "vscode": {
   "interpreter": {
    "hash": "799163b385c9181b01ce43145522fe9684a552fc959640cb067a9bcc1f7c0c1f"
   }
  }
 },
 "nbformat": 4,
 "nbformat_minor": 2
}
