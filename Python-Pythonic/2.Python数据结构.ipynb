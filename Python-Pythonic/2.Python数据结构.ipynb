{
 "cells": [
  {
   "cell_type": "code",
   "execution_count": null,
   "metadata": {},
   "outputs": [],
   "source": []
  },
  {
   "cell_type": "markdown",
   "metadata": {},
   "source": [
    "## Pythonic数据结构\n",
    "## class与OPP约定\n",
    "## Python模块与元编程\n",
    "## Decorator与Context管理\n",
    "## 正确的数据处理过程\n",
    "## Iterators,Generators,Coroutines\n",
    "## Pythonic的设计与架构\n",
    "## Python的Descriptors\n",
    "## 有效的测试Python代码\n",
    "## 生产环境的代码管理"
   ]
  }
 ],
 "metadata": {
  "language_info": {
   "name": "python"
  },
  "orig_nbformat": 4
 },
 "nbformat": 4,
 "nbformat_minor": 2
}
