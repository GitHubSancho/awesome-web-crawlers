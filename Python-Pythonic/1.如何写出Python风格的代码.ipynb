{
 "cells": [
  {
   "cell_type": "markdown",
   "metadata": {},
   "source": [
    "# Pythonic\n",
    "## 1. Pythonic简介\n",
    "### 整洁的代码\n",
    "- 什么是Pythonic？  \n",
    "\n",
    "  它是一种Python代码的最佳实践，它符合Python的代码规范和具有浓厚的Python风格。  \n",
    "  `PEP 8` 是Python的增强提案，是针对Python语言编订的代码风格指南。作为Python编程人员，你应该[读它]((https://peps.python.org/pep-0008/))。  \n",
    "  `Python之禅` 也是Python的风格指南，它也是一个Python的小彩蛋。  \n",
    "\n",
    "- 为什么要遵从Pythonic\n",
    "  - 代码协作  \n",
    "    在团队中，一个统一的代码编写风格，对代码的拓展是非常重要的；  \n",
    "    如一个“新鲜血液”的加入亦或是代码的二次开发，标准的代码会减少歧义，使大家都能读懂\n",
    "\n",
    "  - 技术负债  \n",
    "    我们为了加速软件的开发，对应该采用最佳方案时进行妥协，改用了短期内快速实现的方案；  \n",
    "    这种技术上的让步会一点点累计起来，就像滚雪球，使我们未来必须付出额外的时间和精力来修复之前因为技术让步所造成的\"债务\"和\"利息\"\n",
    "  \n",
    "  - 鲁棒性  \n",
    "    Pythonic代表Python代码编写的最佳实践，它可以在实际开发中保证你的代码质量和减少可避免的错误产生\n",
    "  \n",
    "  总之，学习和应用Pythonic可以使我们编写的Python代码更易阅读，更易维护，更加强壮"
   ]
  },
  {
   "cell_type": "code",
   "execution_count": 1,
   "metadata": {},
   "outputs": [
    {
     "name": "stdout",
     "output_type": "stream",
     "text": [
      "The Zen of Python, by Tim Peters\n",
      "\n",
      "Beautiful is better than ugly.\n",
      "Explicit is better than implicit.\n",
      "Simple is better than complex.\n",
      "Complex is better than complicated.\n",
      "Flat is better than nested.\n",
      "Sparse is better than dense.\n",
      "Readability counts.\n",
      "Special cases aren't special enough to break the rules.\n",
      "Although practicality beats purity.\n",
      "Errors should never pass silently.\n",
      "Unless explicitly silenced.\n",
      "In the face of ambiguity, refuse the temptation to guess.\n",
      "There should be one-- and preferably only one --obvious way to do it.\n",
      "Although that way may not be obvious at first unless you're Dutch.\n",
      "Now is better than never.\n",
      "Although never is often better than *right* now.\n",
      "If the implementation is hard to explain, it's a bad idea.\n",
      "If the implementation is easy to explain, it may be a good idea.\n",
      "Namespaces are one honking great idea -- let's do more of those!\n"
     ]
    }
   ],
   "source": [
    "import this"
   ]
  },
  {
   "cell_type": "markdown",
   "metadata": {},
   "source": [
    "## 2.编写Python代码的注释、文档字符串、注解\n",
    "### 注释\n",
    "- 通用的规范：\n",
    "  - 在代码编写之前规划好代码结构、功能的实现，并写入文档\n",
    "  - 一行不要超过80个字符(url可以是个例外)\n",
    "  - 注释最好是完整的句子\n",
    "  - 一行写不下可以分多行\n",
    "  - 变更代码同时更新注释\n",
    "  - 写\"做什么\"(what)，而不是\"怎么做\"(how)\n",
    "  - 应该写描述性的代码，而不是描述性的注释（如无必要勿增注释）\n",
    "- 块注释的规范：\n",
    "  - 主要解释功能性或细节的内容\n",
    "  - `PEP 8` :注释的缩进和它的代码块的缩进级别匹配\n",
    "  - `PEP 8` :每个注释行以 `#` 号开头，后跟一个空格，然后再开始写文本\n",
    "  - `PEP 8` :如果注释行有多个段落需要隔开，应使用 `#` 号加空格隔开，而不是一个空白行隔开\n",
    "  - 如果在编写中不确定用某种注释类型，通常选择块注释\n",
    "- 内联注释的规范：\n",
    "  - 主要解释本行代码的功能，或提示、警告\n",
    "  - `PEP 8` :仅在必要时使用内联注释，否则避免。\n",
    "  - `PEP 8` :它们应该与它们引用的代码位于同一行的末尾。\n",
    "  - `PEP 8` :为了便于阅读，代码和注释之间应该至少有两个或多个空格。\n",
    "  - `PEP 8` :与块注释类似，内联注释以 # 开头，然后是一个空格。\n",
    "  - `PEP 8` :避免使用内联注释过度解释明显的逻辑"
   ]
  },
  {
   "cell_type": "code",
   "execution_count": 4,
   "metadata": {},
   "outputs": [
    {
     "name": "stdout",
     "output_type": "stream",
     "text": [
      "The Zen of Python, by Tim Peters\n",
      "Beautiful is better than ugly.\n",
      "Explicit is better than implicit.\n",
      "Simple is better than complex.\n",
      "Complex is better than complicated.\n",
      "Flat is better than nested.\n",
      "Sparse is better than dense.\n",
      "Readability counts.\n",
      "Special cases aren't special enough to break the rules.\n",
      "Although practicality beats purity.\n",
      "Errors should never pass silently.\n",
      "Unless explicitly silenced.\n",
      "In the face of ambiguity, refuse the temptation to guess.\n",
      "There should be one-- and preferably only one --obvious way to do it.\n",
      "Although that way may not be obvious at first unless you're Dutch.\n",
      "Now is better than never.\n",
      "Although never is often better than *right* now.\n",
      "If the implementation is hard to explain, it's a bad idea.\n",
      "If the implementation is easy to explain, it may be a good idea.\n",
      "Namespaces are one honking great idea -- let's do more of those!\n"
     ]
    }
   ],
   "source": [
    "# 添加注释示例\n",
    "# 块注释的编写\n",
    "\n",
    "from typing import Iterator\n",
    "\n",
    "def read_lines_from_file(path: str) -> Iterator[str]:\n",
    "    # 读取给定的每一行\n",
    "    # 它只处理非空行的数据\n",
    "    # 它应该忽略换行符\n",
    "    # \n",
    "    # 顺便说一下，它不应该检查文件是否存在\n",
    "    # 如果文件不存在，则让调用者处理异常抛出的问题\n",
    "    # 这不存在这个函数的业务逻辑里\n",
    "    # \n",
    "    # 下面的文件readline文档\n",
    "    # 参见：https://jupyter-docker-stacks.readthedocs.io/en/latest/using/selecting.html\n",
    "    with open(path,'r',encoding='utf-8') as file:\n",
    "        while line := file.readline():\n",
    "            if line := line.strip():\n",
    "                yield line\n",
    "\n",
    "file_path = 'The Zen of Python.txt'\n",
    "for line in read_lines_from_file(file_path):\n",
    "    print(line)"
   ]
  },
  {
   "cell_type": "code",
   "execution_count": null,
   "metadata": {},
   "outputs": [],
   "source": [
    "# 添加注释示例\n",
    "# 内联注释的编写\n",
    "\n",
    "count = 100  # 这是关于书籍数量的统计数字\n",
    "name_of_novel_character = 'Sancho'\n",
    "\n",
    "# 错误示例\n",
    "x = 'Sancho'  # 这一个小说角色的名字（无用注释）\n",
    "list_item = []  # 初始化一个列表（描述性注释）\n",
    "score = 'girlfrend' * 20  # 字符串乘以20（无关业务逻辑的注释）"
   ]
  },
  {
   "cell_type": "markdown",
   "metadata": {},
   "source": [
    "### 文档字符串\n",
    "- 什么是文档字符串？\n",
    "  - 它是一种Python格式的字符串\n",
    "  - 主要解释对应的功能如何使用等\n",
    "  - 更多协议和用法的解释在[PEP 257](https://peps.python.org/pep-0257/)  \n",
    "\n",
    "- 如何使用文档字符串？\n",
    "  - 它需要连续的三个单引号(`'''`) 或双引号（`\"\"\"`）包围字符串  \n",
    "\n",
    "- 在哪里使用文档字符串？\n",
    "  - 通常写在类、模块、方法的首行\n",
    "\n",
    "- 文档字符串和注释的区别？\n",
    "  - 注释是简要的说明（一般是解释第三方库的操作等）\n",
    "  - 文档字符串更能胜任功能描述的作用\n",
    "\n",
    "- 文档字符串的重要性举例\n",
    "  > Python 中的动态类型特性使得文档字符串的使用变得非常重要；  \n",
    "  > 比如：一个函数，接收了一个通用输入或任何数据类型作为它的参数（解释器不会在这里强制一个类型）；  \n",
    "  > 如果你不知道需要如何处理这些类型，或者不知道应该如何使用它们，那么维护这样的功能会特别困难  \n",
    "  > 这里就是文档字符串大放异彩的地方，将预期的输入参数和数据类型以及返回值类型的文档化是编写健壮的Python代码常见的做法  "
   ]
  },
  {
   "cell_type": "code",
   "execution_count": 5,
   "metadata": {},
   "outputs": [
    {
     "name": "stdout",
     "output_type": "stream",
     "text": [
      "\u001b[1;31mDocstring:\u001b[0m\n",
      "D.update([E, ]**F) -> None.  Update D from dict/iterable E and F.\n",
      "If E is present and has a .keys() method, then does:  for k in E: D[k] = E[k]\n",
      "If E is present and lacks a .keys() method, then does:  for k, v in E: D[k] = v\n",
      "In either case, this is followed by: for k in F:  D[k] = F[k]\n",
      "\u001b[1;31mType:\u001b[0m      method_descriptor\n"
     ]
    }
   ],
   "source": [
    "# 查看方法的文档字符串\n",
    "dict.update?\n",
    "# 或`dict.update??` 查看更详细的文档字符串"
   ]
  },
  {
   "cell_type": "code",
   "execution_count": 7,
   "metadata": {},
   "outputs": [
    {
     "data": {
      "text/plain": [
       "'执行此操作保存文件'"
      ]
     },
     "execution_count": 7,
     "metadata": {},
     "output_type": "execute_result"
    }
   ],
   "source": [
    "# 自定义文档字符串示例：\n",
    "\n",
    "def execute():\n",
    "    \"\"\"执行此操作保存文件\"\"\"\n",
    "    pass\n",
    "\n",
    "execute.__doc__  # 查看文档字符串"
   ]
  },
  {
   "cell_type": "code",
   "execution_count": 10,
   "metadata": {},
   "outputs": [
    {
     "name": "stdout",
     "output_type": "stream",
     "text": [
      "\u001b[1;31mSignature:\u001b[0m \u001b[0mfetch_content_from\u001b[0m\u001b[1;33m(\u001b[0m\u001b[0murl\u001b[0m\u001b[1;33m:\u001b[0m \u001b[0mstr\u001b[0m\u001b[1;33m)\u001b[0m \u001b[1;33m->\u001b[0m \u001b[0mstr\u001b[0m\u001b[1;33m\u001b[0m\u001b[1;33m\u001b[0m\u001b[0m\n",
      "\u001b[1;31mSource:\u001b[0m   \n",
      "\u001b[1;32mdef\u001b[0m \u001b[0mfetch_content_from\u001b[0m\u001b[1;33m(\u001b[0m\u001b[0murl\u001b[0m\u001b[1;33m:\u001b[0m \u001b[0mstr\u001b[0m\u001b[1;33m)\u001b[0m \u001b[1;33m->\u001b[0m \u001b[0mstr\u001b[0m\u001b[1;33m:\u001b[0m\u001b[1;33m\n",
      "\u001b[0m    \u001b[1;34m\"\"\"`fetch_content_from` 从给定的`url` 中获取文本数据并编译为UTF-8格式\n",
      "    \n",
      "    Note: 注意URL的请求头\n",
      "\n",
      "    Keyword arguments:\n",
      "        `url`: 传入需要访问的url连接，接受str格式\n",
      "\n",
      "    Returns: 返回经过UTF-8编译的文本数据\n",
      "\n",
      "    Raises: \n",
      "        'TypeError': 如果传入的`url`不是期望的`str`类型将会出现类型报错\n",
      "    \"\"\"\u001b[0m\u001b[1;33m\n",
      "\u001b[0m    \u001b[1;32mpass\u001b[0m\u001b[1;33m\u001b[0m\u001b[1;33m\u001b[0m\u001b[0m\n",
      "\u001b[1;31mFile:\u001b[0m      c:\\users\\administrator\\appdata\\local\\temp\\ipykernel_1208\\2217695255.py\n",
      "\u001b[1;31mType:\u001b[0m      function\n"
     ]
    }
   ],
   "source": [
    "# 自定义更详细的文档字符串示例：\n",
    "\n",
    "def fetch_content_from(url: str) -> str:\n",
    "    \"\"\"`fetch_content_from` 从给定的`url` 中获取文本数据并编译为UTF-8格式\n",
    "    \n",
    "    Note: 注意URL的请求头\n",
    "\n",
    "    Keyword arguments:\n",
    "        `url`: 传入需要访问的url连接，接受str格式\n",
    "\n",
    "    Returns: 返回经过UTF-8编译的文本数据\n",
    "\n",
    "    Raises: \n",
    "        'TypeError': 如果传入的`url`不是期望的`str`类型将会出现类型报错\n",
    "    \"\"\"\n",
    "    pass\n",
    "\n",
    "fetch_content_from??"
   ]
  },
  {
   "cell_type": "markdown",
   "metadata": {},
   "source": [
    "#### 注解\n",
    "- 注解的作用\n",
    "  - 向应用程序的用户提示参数及其数据类型\n",
    "  - 它可以实现参数的预制验证和实现数据的检查\n",
    "  - 注意：Python任然是动态类型的语言，添加注解并不会验证数据类型和语义\n",
    "  - 添加了一个特殊属性，`__annotations__`，它提供了一个API以`dict`类型访问已定义注解的名称和值(数据类型提示)\n",
    "  - 使语义更加完善和更有意义，并且使应用程序的用户更容易理解代码的含义和传递的内容\n",
    "  - 它在[PEP 3107](https://peps.python.org/pep-3107/)中被引入\n",
    "  - 它的应用标准在[PEP 484](https://peps.python.org/pep-3107/)\n",
    "  - 如果想检查代码中的语义是否兼容或是否使用了正确的数据类型，可以使用[mypy](https://github.com/python/mypy)\n",
    "\n",
    "- 如何使用？\n",
    "  - 在函数形参中加入描述性的数据类型如：`def foo(a: 'x', b: 5 + 6, c: str, d: Dict[str, int], e: list = None) -> max(2,9)`\n",
    "  - 可以使用自建数据类型、类等\n",
    "  - 更多形式的注解：\n",
    "    - 对容器内的数据类型添加注解需要从typing模块中导入对应数据类型，如:`from typing import Dict, Union`\n",
    "    - `Python 3.9+`可以不导入`typing`模块而直接使用注解，如：`a: dict[str, int] = {'abc': 123}`\n",
    "    - `Union` 表示接受列表中任意一种数据类型如：`Union[int ,str, float]`\n",
    "    - `Dict` 可以指定键和值的数据类型\n",
    "    - `Tuple` 是不可变类型，因此注解的个数也确定了元素的个数，如:`c: Tuple[str, int]`，但可以使用省略号表示接收更多的数据类型，如:`c Tuple[str, int, ...]`\n",
    "    - `Optional`的含义实际上和`Union[X, None]`是一致的\n",
    "    - `Callable[[ArgType], ReturnType]`表示可调用对象的参数数据类型和返回值类型的注解\n",
    "    - `Any`是所有没有返回类型或参数类型的函数都将隐式默认为Any注解\n",
    "    - `NoReturn`是标记没有返回值的函数的特殊类型（特指抛出异常的函数）的注解\n",
    "  - 更多参考[typing模块文档](https://docs.python.org/zh-cn/3/library/typing.html)\n",
    "    "
   ]
  },
  {
   "cell_type": "code",
   "execution_count": 11,
   "metadata": {},
   "outputs": [
    {
     "data": {
      "text/plain": [
       "{'radius': float, 'return': __main__.Circle}"
      ]
     },
     "execution_count": 11,
     "metadata": {},
     "output_type": "execute_result"
    }
   ],
   "source": [
    "# 代码注解示例\n",
    "\n",
    "class Circle:\n",
    "    def __init__(self,radius) -> None:\n",
    "        self.radius = radius\n",
    "        self.area = 0\n",
    "\n",
    "def area(radius: float) -> Circle:\n",
    "    \"\"\"计算圆的面积\"\"\"\n",
    "    pass\n",
    "\n",
    "area.__annotations__"
   ]
  },
  {
   "cell_type": "markdown",
   "metadata": {},
   "source": [
    "## 3. Pythonic命名方式\n",
    "- 过短或过长的命名都会让使用者感到疑惑，合理的命名可以减少后续维护的时间和精力\n",
    "- 命名应该具有可读性，做到见名知意，比如变量、函数、类等对象的功能\n",
    "- 具体对象的命名方式\n",
    "  - `Variable`：使用小写单个字母、单词，用下划线分割单词。如：`x`，`hero`，`shopping_cart`\n",
    "  - `Constant`：使用大写的单个字母、单词，用下划线分割单词。如：`MAX_SIZE`，`TOP_LEVEL`\n",
    "  - `Function`：使用小写单词，使用下划线分割单词。如：`function`，`delta_function`\n",
    "  - `Method`：使用小写单词，使用下划线分割单词。如：`what_a_method`，`fetch`\n",
    "  - `Class`：单词以大写字母开头，不使用下划线，并使用驼峰式命名法。如：`Order`，`UserProfile`\n",
    "  - `module`：使用简单的小写单词，并使用下划线分割单词。如：`user_profile.py`，`file_handler`\n",
    "  - `Package`：使用简单的小写单词，最好不要使用下划线。如：`user`，`userprofile`，`socialmedia`"
   ]
  },
  {
   "cell_type": "code",
   "execution_count": 1,
   "metadata": {},
   "outputs": [
    {
     "name": "stdout",
     "output_type": "stream",
     "text": [
      "Flores, Sancho\n",
      "Flores, Sancho\n"
     ]
    }
   ],
   "source": [
    "# 错误示例\n",
    "x = 'Sancho Flores'  # name\n",
    "y, z = x.split()  # firstname, lastname\n",
    "print(z,y,sep=', ')  # output the 'lastname, firstname'\n",
    "\n",
    "# 正确示例\n",
    "name = 'Sancho Flores'\n",
    "first_name, last_name = name.split()\n",
    "print(last_name, first_name, sep=', ')\n",
    "\n",
    "# 错误示例\n",
    "def db(x):\n",
    "    return x * 2\n",
    "\n",
    "# 正确示例\n",
    "def multiply_by_two(data):\n",
    "    return data * 2\n",
    "\n",
    "def expensive_price(original_price: float) -> float:\n",
    "    return original_price * 2"
   ]
  },
  {
   "cell_type": "markdown",
   "metadata": {},
   "source": [
    "## 4. Python中的布局\n",
    "- 空行：\n",
    "  - 类或顶级函数之间需要两个空行；\n",
    "  - 类中的方法之间需要单个空行；\n",
    "  - 函数类中清晰的操作步骤可用单个空行划分；\n",
    "- 最大字符数和换行：\n",
    "  - `PEP 8` 建议一行的代码最大为79个字符；\n",
    "  - 显式换行：较长的行可以使用`\\`在正确语义下分割行；\n",
    "  - 隐式换行：在超过最大字符数和正确语义的地方使用换行\n",
    "  - 在二元操作符之前换行，更具可读性\n",
    "- 缩进：\n",
    "  - `PEP 8` 约定使用4个空格代表缩进\n",
    "  - `PEP 8` 约定使优先使用空格而非制表符\n",
    "  - `PEP 8` 约定使不允许空格和制表符混用\n",
    "- 换行后的缩进：\n",
    "  - 在一行代码超过79个字符时使用换行，换行后使用适当的缩进保持代码可读性\n",
    "  - 方式一：将缩进的代码和开始的参数对齐\n",
    "  - 方式二：参数和括号不在同一行，参数增加一级缩进\n",
    "  - 在if语句块中换行后的条件表达式和执行代码块会处以同一缩进。建议增加注释行来分割语义；或在条件表达式中增加一级缩进\n",
    "- 定位闭合括号\n",
    "  - 方式一：右括号和上一行非空字符对齐\n",
    "  - 方式二：右括号和语句块对齐\n",
    "- 表达式和语句中的空格：\n",
    "  - 括号内不需要多余空格,`spam(ham[1], {eggs: 2})`\n",
    "  - 逗号加括号结尾不使用空格,`foo = (0,)`\n",
    "  - 逗号、冒号、分号分割语义的前面不使用空格,`if x == 4: print(x, y); x, y = y, x`\n",
    "  - 切片操作时冒号两边的间距要么不用空格，要么相等的空格，`ham[1:9], ham[1:9:3], ...`\n",
    "  - 调用函数时，括号前不要有空格，`spam(1)`\n",
    "  - 索引或切片操作时，括号前不要有空格，`dct['key'] = lst[index]`\n",
    "  - 赋值操作两边各需要一个空格（不要为了对齐使用格式化），`x = 1`\n",
    "  - 二元运算符两边各需要一个空格，`x >= 1`， 组合运算时给最低级运算符两边各一个空格, `hypot2 = x*x + y*y`\n",
    "  - 函数注解的冒号右边留一个空格，`def munge(input: Anystr): ...`， 返回值类型两边各一个空格, `def munge() -> PosInt: ...`\n",
    "  - 传递参数的等号两边不加空格，`def complex(real, imag=0.0): ...`，如果有注解的情况等号两边需要空格, `def munge(sep: AnyStr = None): ...`\n",
    "  - 其它规则：尽量避免在同一行堆叠代码"
   ]
  },
  {
   "cell_type": "code",
   "execution_count": 4,
   "metadata": {},
   "outputs": [
    {
     "name": "stdout",
     "output_type": "stream",
     "text": [
      "\n",
      "\n"
     ]
    }
   ],
   "source": [
    "# 示例：在二元操作符之前换行\n",
    "too_long_variable_for_demo_in_scenario_one = 1\n",
    "too_long_variable_for_demo_in_scenario_two = 2\n",
    "too_long_variable_for_demo_in_scenario_three = 3\n",
    "\n",
    "_sum = (too_long_variable_for_demo_in_scenario_one\n",
    "        + too_long_variable_for_demo_in_scenario_two\n",
    "        + too_long_variable_for_demo_in_scenario_three)\n",
    "\n",
    "\n",
    "# 示例：参数和括号不在同一行，参数增加一级缩进（函数体）\n",
    "def long_function_name(\n",
    "        var_one, var_two,\n",
    "        var_three, var_four\n",
    "):\n",
    "    pass\n",
    "\n",
    "\n",
    "# 示例：将缩进的代码和开始的参数对齐\n",
    "var_one, var_two,var_three, var_four = 1, 2, 3, 4\n",
    "foo = long_function_name(var_one, var_two,\n",
    "                         var_three, var_four)\n",
    "\n",
    "\n",
    "# 示例：参数和括号不在同一行，参数增加一级缩进（语句块）\n",
    "foo = long_function_name(\n",
    "    var_one, var_two,\n",
    "    var_three, var_four\n",
    ")\n",
    "\n",
    "\n",
    "# 示例：if表达式增加注释行分割语义\n",
    "this_is_one_thing, that_is_another_thing, do_something = 1, 2, print\n",
    "if (this_is_one_thing and\n",
    "    that_is_another_thing):\n",
    "    # Since both conditions are true, we can frobnicate.\n",
    "    do_something()\n",
    "\n",
    "\n",
    "# 示例：if条件表达式增加一级缩进\n",
    "if (this_is_one_thing\n",
    "        and that_is_another_thing):\n",
    "    do_something()\n",
    "\n",
    "\n",
    "# 示例：右括号和上一行非空字符对齐\n",
    "my_list = [\n",
    "    1, 2, 3,\n",
    "    4, 5, 6,\n",
    "    ]\n",
    "\n",
    "\n",
    "# 示例：右括号和语句块对齐\n",
    "my_list = [\n",
    "    1, 2, 3,\n",
    "    4, 5, 6,\n",
    "]\n",
    "\n"
   ]
  },
  {
   "cell_type": "markdown",
   "metadata": {},
   "source": [
    "## 5. Python的控制结构\n",
    "- 复杂的推导式：不要嵌套两个以上的逻辑表达式，如果超过则不考虑推导式\n",
    "- lambda的使用：简单的、一次性的结果可以使用lambda，否则定义函数\n",
    "- 循环中的else：循环表达式可以使用`else`，但循环成功结束才会执行`else`（`except`或`break`等会中断循环不会执行`else`）\n",
    "- 生成器还是推导式：推导式会一次性读取内容，可能会占用大量内存；生成器每次只读取一部分内容，可以节省内存；\n",
    "- Python3使用增强的范围：`range`不会因为范围大而占用更多空间，`range`类型可以比较、切片，处理迭代比列表快，尽量使用`range`来替代列表迭代的使用"
   ]
  },
  {
   "cell_type": "markdown",
   "metadata": {},
   "source": [
    "## 6. 整洁的Python代码模式\n",
    "- 自由使用断言\n",
    "  - 预计不满足表达式，又没有相应的处理办法时应果断使用断言，来避免进一步的伤害，终止程序继续运行\n",
    "  - 断言无需纠正(try-except)，若不满足则果断终止程序继续执行\n",
    "- 逗号的位置\n",
    "  - 闭合括号前加上逗号不会报错，表示可能未来有更多的元素添加\n",
    "  - 尽量在每个元素后面加上逗号（习惯）\n",
    "- `with`语句\n",
    "  - `with`有助于编写无错误、更清晰的代码，通过隐式管理资源\n",
    "- 魔术方法、下划线和其它功能\n",
    "  - 模块中开头为`_`的方法，在模块被导入时（`from xxx import *`格式），`_`开头的方法不会被导入\n",
    "  - 如果命名冲突可以在方法、变量后面加上`_`区分\n",
    "  - 一般类中的属性以`__`双下划线表示的属性表示私有属性，此属性会被解释器重新命名（格式为`_类名__属性名`）\n",
    "  - 如果属性或方法名被`__`双下划线包裹，则不会被隐藏，但尽量避免此方法定义（因为Python的魔术方法也是次格式）\n",
    "  - `_`单下划线一般用以程序中一次性的占位符，如：`for k, _ in my_dict.items(): ...`，Ipython等中也表示前一个表达式的值\n",
    "- 关于格式化字符串的定义\n",
    "  - C语言风格：`\"Hello, %s\" % name`\n",
    "  - 新样式（推荐）：`\"Hello, {}\".format(name)`\n",
    "  - 格式化的字符串文字（复杂表达式的首选）：`f\"Hello, {name}\"`\n",
    "  - 字符串模板：适合简单的场景\n",
    "```python\n",
    "# 示例：字符串模板\n",
    "from string import Template\n",
    "\n",
    "template = Template(\"Hello, $username!\")\n",
    "template.substitute(username='Henry')\n",
    "```"
   ]
  }
 ],
 "metadata": {
  "kernelspec": {
   "display_name": "Python 3.9.12 ('base')",
   "language": "python",
   "name": "python3"
  },
  "language_info": {
   "codemirror_mode": {
    "name": "ipython",
    "version": 3
   },
   "file_extension": ".py",
   "mimetype": "text/x-python",
   "name": "python",
   "nbconvert_exporter": "python",
   "pygments_lexer": "ipython3",
   "version": "3.9.12"
  },
  "orig_nbformat": 4,
  "vscode": {
   "interpreter": {
    "hash": "799163b385c9181b01ce43145522fe9684a552fc959640cb067a9bcc1f7c0c1f"
   }
  }
 },
 "nbformat": 4,
 "nbformat_minor": 2
}
