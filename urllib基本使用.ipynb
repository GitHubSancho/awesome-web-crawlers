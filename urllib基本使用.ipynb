{
 "cells": [
  {
   "cell_type": "markdown",
   "id": "2b978976-42a2-4181-b064-a9a4e4b36b15",
   "metadata": {},
   "source": [
    "# Python urllib\n",
    "urllib是Python的原生库，用于对网页内容的抓取"
   ]
  },
  {
   "cell_type": "code",
   "execution_count": null,
   "id": "a406c716-3f33-4ef9-8120-31447da72ad1",
   "metadata": {},
   "outputs": [],
   "source": [
    "#urllib.request模块：负责打开和读取url\n",
    "import urllib.request\n",
    "\n",
    "# 访问链接\n",
    "url='https://www.baidu.com'\n",
    "rsp = urllib.request.urlopen(url=url, data=None, timeout=3, cafile=None, capath=None, context=None)\n",
    "#data:发送到服务器的对象\n",
    "#timeout：设置访问超时时间\n",
    "#cafile、capath：证书和证书路径（HTTPS）\n",
    "#context：指定SSL设置\n",
    "\n",
    "# 读取网页内容\n",
    "rsp.read()\n",
    "\n",
    "# 获取访问状态\n",
    "rsp.getcode()\n",
    "\n",
    "# URL编码\n",
    "encode_url = urllib.request.quote(url)\n",
    "# URL解码\n",
    "unencode_url = urllib.request.unquote(url)\n",
    "\n",
    "# 模拟请求头\n",
    "header = {'User-Agent':'Mozilla/5.0 (X11; Fedora; Linux x86_64) AppleWebKit/537.36 (KHTML, like Gecko) Chrome/58.0.3029.110 Safari/537.36'}\n",
    "request = urllib.request.Request(url,headers=header, origin_req_host=None, unverifiable=False, method=None)\n",
    "#origin_req_host：请求的主机地址，IP 或域名\n",
    "#unverifiable：很少用整个参数，用于设置网页是否需要验证\n",
    "#method：请求方法， 如 GET、POST\n",
    "rsp = urllib.request.urlopen(request).read()"
   ]
  },
  {
   "cell_type": "code",
   "execution_count": null,
   "id": "166556c8-9784-4b24-aa9f-158991ab4d37",
   "metadata": {},
   "outputs": [],
   "source": [
    "#urllib.error模块：异常类\n",
    "import urllib.request\n",
    "import urllib.error\n",
    "\n",
    "# 处理异常\n",
    "url='https://www.baidu.com'\n",
    "try:\n",
    "    rsp = urllib.request.urlopen(url)\n",
    "except urllib.error.HTTPError as e:\n",
    "    if e.code == 404:\n",
    "        print(\"404 Not Found\")"
   ]
  },
  {
   "cell_type": "code",
   "execution_count": null,
   "id": "19acc40e-e9fc-4aa4-86db-bad8bb3db77d",
   "metadata": {},
   "outputs": [],
   "source": [
    "#urllib.parse模块：解析URL\n",
    "import urllib.parse\n",
    "\n",
    "#查看解析内容\n",
    "url = 'https://www.baidu.com/s?ie=UTF-8&wd=python'\n",
    "rsp = urllib.parse.urlparse(url=url, scheme='', allow_fragments=True)\n",
    "#scheme：协议地址\n",
    "#allow_fragments：是否识别片段标识符\n",
    "rsp\n",
    "#output:ParseResult(scheme='https', netloc='www.baidu.com', path='/s', params='', query='ie=UTF-8&wd=python', fragment='')\n",
    "#scheme：URL协议\n",
    "#netloc：主要网络位置\n",
    "#path：网址的分层路径部分\n",
    "#params：最后路径元素的参数\n",
    "#query：参数部分\n",
    "#fragment：片段识别\n",
    "#username：用户名\n",
    "#password：密码\n",
    "#hostname：主机名（小写）\n",
    "#port：端口号"
   ]
  },
  {
   "cell_type": "code",
   "execution_count": 15,
   "id": "0b0456bf-08e3-4d97-b127-4330d5773487",
   "metadata": {},
   "outputs": [],
   "source": [
    "#urllib.robotparser模块：用于解析robots.txt文件\n",
    "import urllib.robotparser\n",
    "\n",
    "url = 'https://www.baidu.com/robots.txt'\n",
    "ua = 'Mozilla/5.0 (X11; Fedora; Linux x86_64) AppleWebKit/537.36 (KHTML, like Gecko) Chrome/58.0.3029.110 Safari/537.36'\n",
    "rp = urllib.robotparser.RobotFileParser()\n",
    "rp.set_url(url) #设置robots.txt文件的url\n",
    "rp.read()#读取文件中的url\n",
    "# rp.parse(lines=None)#解析行参数\n",
    "rp.can_fetch(ua,url)#是否允许UA按照robots.txt文件规则获取url\n",
    "rp.mtime()#返回最近一次获取robots.txt文件的时间\n",
    "rp.crawl_delay(ua)# 为指定的 useragent 从 robots.txt 返回 Crawl-delay 形参\n",
    "rp.request_rate(\"*\")#返回request_rate形参内容\n",
    "rp.site_maps()#返回 Sitemap 形参的内容(列表)"
   ]
  },
  {
   "cell_type": "markdown",
   "id": "1b571526-56b2-4907-a6ea-ae88c0797fa6",
   "metadata": {},
   "source": [
    "[访问urllib中文文档](https://docs.python.org/zh-cn/3/library/urllib.html)"
   ]
  }
 ],
 "metadata": {
  "kernelspec": {
   "display_name": "Python 3 (ipykernel)",
   "language": "python",
   "name": "python3"
  },
  "language_info": {
   "codemirror_mode": {
    "name": "ipython",
    "version": 3
   },
   "file_extension": ".py",
   "mimetype": "text/x-python",
   "name": "python",
   "nbconvert_exporter": "python",
   "pygments_lexer": "ipython3",
   "version": "3.9.7"
  }
 },
 "nbformat": 4,
 "nbformat_minor": 5
}
